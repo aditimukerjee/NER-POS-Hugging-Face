{
  "nbformat": 4,
  "nbformat_minor": 0,
  "metadata": {
    "colab": {
      "name": "CNN_ARTICLE_NER and POS.ipynb",
      "provenance": [],
      "collapsed_sections": []
    },
    "kernelspec": {
      "name": "python3",
      "display_name": "Python 3"
    },
    "language_info": {
      "name": "python"
    }
  },
  "cells": [
    {
      "cell_type": "markdown",
      "metadata": {
        "id": "6beed4bvmJoP"
      },
      "source": [
        "Aricle Link: https://www.cnn.com/2021/07/20/us/georgia-man-exonerated-church-murder-trnd/index.html\n",
        "\n",
        "Task:  Find the compensation amount and location of crime without reading the article"
      ]
    },
    {
      "cell_type": "code",
      "metadata": {
        "id": "8E9IhWrjmfzf"
      },
      "source": [
        "text = \"\"\"Why your DNA may be solving cold cases 01:31\n",
        "(CNN)A man who spent two decades in prison for a 1985 double homicide during church bible study has been exonerated, with all charges against him dropped.\n",
        "\n",
        "Newly discovered DNA evidence from a hair sample shows Dennis A. Perry, 59, \"may have been acquitted if that evidence had been available\" during his 2003 trial for the murders of Harold and Thelma Swain in Georgia, according to a news release from Glynn County District Attorney Keith Higgins.\n",
        "Dennis Perry, center, standing beside wife Brenda Perry gets emotional while thanking the team from the Georgia Innocence Project after they worked to get his release after 20 years behind bars.\n",
        "Dennis Perry, center, standing beside wife Brenda Perry gets emotional while thanking the team from the Georgia Innocence Project after they worked to get his release after 20 years behind bars.\n",
        "Perry, formerly of Camden County, Georgia, was sentenced to two consecutive life sentences following his arrest in 2000. His subsequent conviction was overturned in July, and Higgins' office announced Monday that prosecutors will not re-try him.\n",
        "\"It took a long time, but I never gave up,\" Perry said in a news release Monday. \"I knew that eventually someone else would see the truth, and I'm so grateful to the Georgia Innocence Project and King & Spalding [law firm] for bringing the truth to light. This indictment has been hanging over my head for over 20 years, and it's such a relief to finally not have to worry about being accused of this awful thing.\"\n",
        "'Righting a wrong'\n",
        "The DNA evidence involves a pair of eyeglasses found at the crime scene in 1985, according to the news release. Investigators found that the glasses had two hairs belonging to the killer, stuck in the hinges.\n",
        "In February 2020, private investigators working for Perry were able to get a hair sample from a Brantley County woman who is the mother of a man implicated, but not charged, in the 1985 Swain murders, according to the district attorney's news release. Her hair sample was then examined by the same lab that did the DNA testing on the hair found in the eyeglasses in 2001 and those profiles matched, prompting the Georgia Bureau of Investigation to reopen the case in light of the new evidence.\n",
        "Mitochondrial DNA testing was done using those hair samples prior to Perry's 2003 trial and excluded him as a possible contributor of the hairs; however, he was convicted using circumstantial evidence at trial, the release said.\n",
        "Two brothers were wrongfully convicted of rape and murder. Nearly 40 years later, they are getting $75 million in compensation\n",
        "Two brothers were wrongfully convicted of rape and murder. Nearly 40 years later, they are getting $75 million in compensation\n",
        "On the evening on their murders, the Swains were in bible study at Rising Daughter Baptist Church in Waverly, according to a news release from Georgia Innocence Project.\n",
        "Before 9 p.m., an attendee left the meeting and found a man inside the church's vestibule as she was leaving who asked to speak with Harold Swain, 66. She went back inside the prayer meeting to get him and left the church, Higgins' news release said. Witnesses said they heard a \"scuffle\" followed by four gunshots.\n",
        "Thelma, 63, heard the gunshots and ran to the vestibule -- that's when the killer shot her once. By the time the other meeting attendees ran to the back of the church, the killer had left.\n",
        "The case quickly went cold, Higgins' release said, but it was reopened by the Camden County Sheriff's Office in 1998, according to a release from the Georgia Innocence Project.\n",
        "Within a week, authorities identified Perry as the main suspect based mainly on testimony from an informant who wanted a $25,000 reward and ultimately was paid $12,000 in exchange for testimony -- something that was never disclosed to Perry's attorneys, the release from Georgia Innocence Project said.\n",
        "Higgins said he consulted with the GBI and the victim's family, and both agreed with his decision not to prosecute Perry.\n",
        "\"There are times when seeking justice means righting a wrong,\" Higgins, who took office Jan. 1, said. \"While this case was prosecuted prior to my administration, the new evidence indicates that someone else murdered Harold and Thelma Swain. Mr. Perry is now, and has been since July 2020, a free man. We will continue to examine all the evidence in the case — new and old — as we determine what the next step will be in this investigation.\"\n",
        "\"\"\""
      ],
      "execution_count": null,
      "outputs": []
    },
    {
      "cell_type": "code",
      "metadata": {
        "colab": {
          "base_uri": "https://localhost:8080/"
        },
        "id": "wkGIXLG0mcQr",
        "outputId": "9adfdc2e-6dca-431f-c733-37f6f26780e1"
      },
      "source": [
        "len(text)"
      ],
      "execution_count": null,
      "outputs": [
        {
          "output_type": "execute_result",
          "data": {
            "text/plain": [
              "4469"
            ]
          },
          "metadata": {
            "tags": []
          },
          "execution_count": 67
        }
      ]
    },
    {
      "cell_type": "code",
      "metadata": {
        "colab": {
          "base_uri": "https://localhost:8080/"
        },
        "id": "59CdywuqrZ5E",
        "outputId": "3885a8b8-040c-452f-cedb-5028d9d92970"
      },
      "source": [
        "!pip install transformers"
      ],
      "execution_count": null,
      "outputs": [
        {
          "output_type": "stream",
          "text": [
            "Requirement already satisfied: transformers in /usr/local/lib/python3.7/dist-packages (4.9.1)\n",
            "Requirement already satisfied: requests in /usr/local/lib/python3.7/dist-packages (from transformers) (2.23.0)\n",
            "Requirement already satisfied: importlib-metadata in /usr/local/lib/python3.7/dist-packages (from transformers) (4.6.1)\n",
            "Requirement already satisfied: pyyaml>=5.1 in /usr/local/lib/python3.7/dist-packages (from transformers) (5.4.1)\n",
            "Requirement already satisfied: tokenizers<0.11,>=0.10.1 in /usr/local/lib/python3.7/dist-packages (from transformers) (0.10.3)\n",
            "Requirement already satisfied: filelock in /usr/local/lib/python3.7/dist-packages (from transformers) (3.0.12)\n",
            "Requirement already satisfied: numpy>=1.17 in /usr/local/lib/python3.7/dist-packages (from transformers) (1.19.5)\n",
            "Requirement already satisfied: regex!=2019.12.17 in /usr/local/lib/python3.7/dist-packages (from transformers) (2019.12.20)\n",
            "Requirement already satisfied: packaging in /usr/local/lib/python3.7/dist-packages (from transformers) (21.0)\n",
            "Requirement already satisfied: sacremoses in /usr/local/lib/python3.7/dist-packages (from transformers) (0.0.45)\n",
            "Requirement already satisfied: tqdm>=4.27 in /usr/local/lib/python3.7/dist-packages (from transformers) (4.41.1)\n",
            "Requirement already satisfied: huggingface-hub==0.0.12 in /usr/local/lib/python3.7/dist-packages (from transformers) (0.0.12)\n",
            "Requirement already satisfied: typing-extensions in /usr/local/lib/python3.7/dist-packages (from huggingface-hub==0.0.12->transformers) (3.7.4.3)\n",
            "Requirement already satisfied: pyparsing>=2.0.2 in /usr/local/lib/python3.7/dist-packages (from packaging->transformers) (2.4.7)\n",
            "Requirement already satisfied: zipp>=0.5 in /usr/local/lib/python3.7/dist-packages (from importlib-metadata->transformers) (3.5.0)\n",
            "Requirement already satisfied: certifi>=2017.4.17 in /usr/local/lib/python3.7/dist-packages (from requests->transformers) (2021.5.30)\n",
            "Requirement already satisfied: urllib3!=1.25.0,!=1.25.1,<1.26,>=1.21.1 in /usr/local/lib/python3.7/dist-packages (from requests->transformers) (1.24.3)\n",
            "Requirement already satisfied: chardet<4,>=3.0.2 in /usr/local/lib/python3.7/dist-packages (from requests->transformers) (3.0.4)\n",
            "Requirement already satisfied: idna<3,>=2.5 in /usr/local/lib/python3.7/dist-packages (from requests->transformers) (2.10)\n",
            "Requirement already satisfied: six in /usr/local/lib/python3.7/dist-packages (from sacremoses->transformers) (1.15.0)\n",
            "Requirement already satisfied: joblib in /usr/local/lib/python3.7/dist-packages (from sacremoses->transformers) (1.0.1)\n",
            "Requirement already satisfied: click in /usr/local/lib/python3.7/dist-packages (from sacremoses->transformers) (7.1.2)\n"
          ],
          "name": "stdout"
        }
      ]
    },
    {
      "cell_type": "code",
      "metadata": {
        "colab": {
          "base_uri": "https://localhost:8080/"
        },
        "id": "WCGLE2WgeEVJ",
        "outputId": "ec0a4964-b490-4b22-bad0-39a6eadf56d9"
      },
      "source": [
        "import nltk\n",
        "nltk.download('punkt')"
      ],
      "execution_count": null,
      "outputs": [
        {
          "output_type": "stream",
          "text": [
            "[nltk_data] Downloading package punkt to /root/nltk_data...\n",
            "[nltk_data]   Package punkt is already up-to-date!\n"
          ],
          "name": "stdout"
        },
        {
          "output_type": "execute_result",
          "data": {
            "text/plain": [
              "True"
            ]
          },
          "metadata": {
            "tags": []
          },
          "execution_count": 70
        }
      ]
    },
    {
      "cell_type": "code",
      "metadata": {
        "id": "b64Kmp9drfBI"
      },
      "source": [
        "import transformers"
      ],
      "execution_count": null,
      "outputs": []
    },
    {
      "cell_type": "code",
      "metadata": {
        "colab": {
          "base_uri": "https://localhost:8080/"
        },
        "id": "hyz5OXrVrijx",
        "outputId": "9acbb070-8f8c-496b-bfef-7eee05a1d599"
      },
      "source": [
        "pip install \"transformers[sentencepiece]\""
      ],
      "execution_count": null,
      "outputs": [
        {
          "output_type": "stream",
          "text": [
            "Requirement already satisfied: transformers[sentencepiece] in /usr/local/lib/python3.7/dist-packages (4.9.1)\n",
            "Requirement already satisfied: packaging in /usr/local/lib/python3.7/dist-packages (from transformers[sentencepiece]) (21.0)\n",
            "Requirement already satisfied: tokenizers<0.11,>=0.10.1 in /usr/local/lib/python3.7/dist-packages (from transformers[sentencepiece]) (0.10.3)\n",
            "Requirement already satisfied: huggingface-hub==0.0.12 in /usr/local/lib/python3.7/dist-packages (from transformers[sentencepiece]) (0.0.12)\n",
            "Requirement already satisfied: tqdm>=4.27 in /usr/local/lib/python3.7/dist-packages (from transformers[sentencepiece]) (4.41.1)\n",
            "Requirement already satisfied: sacremoses in /usr/local/lib/python3.7/dist-packages (from transformers[sentencepiece]) (0.0.45)\n",
            "Requirement already satisfied: pyyaml>=5.1 in /usr/local/lib/python3.7/dist-packages (from transformers[sentencepiece]) (5.4.1)\n",
            "Requirement already satisfied: numpy>=1.17 in /usr/local/lib/python3.7/dist-packages (from transformers[sentencepiece]) (1.19.5)\n",
            "Requirement already satisfied: regex!=2019.12.17 in /usr/local/lib/python3.7/dist-packages (from transformers[sentencepiece]) (2019.12.20)\n",
            "Requirement already satisfied: importlib-metadata in /usr/local/lib/python3.7/dist-packages (from transformers[sentencepiece]) (4.6.1)\n",
            "Requirement already satisfied: filelock in /usr/local/lib/python3.7/dist-packages (from transformers[sentencepiece]) (3.0.12)\n",
            "Requirement already satisfied: requests in /usr/local/lib/python3.7/dist-packages (from transformers[sentencepiece]) (2.23.0)\n",
            "Requirement already satisfied: protobuf in /usr/local/lib/python3.7/dist-packages (from transformers[sentencepiece]) (3.17.3)\n",
            "Requirement already satisfied: sentencepiece==0.1.91 in /usr/local/lib/python3.7/dist-packages (from transformers[sentencepiece]) (0.1.91)\n",
            "Requirement already satisfied: typing-extensions in /usr/local/lib/python3.7/dist-packages (from huggingface-hub==0.0.12->transformers[sentencepiece]) (3.7.4.3)\n",
            "Requirement already satisfied: pyparsing>=2.0.2 in /usr/local/lib/python3.7/dist-packages (from packaging->transformers[sentencepiece]) (2.4.7)\n",
            "Requirement already satisfied: zipp>=0.5 in /usr/local/lib/python3.7/dist-packages (from importlib-metadata->transformers[sentencepiece]) (3.5.0)\n",
            "Requirement already satisfied: six>=1.9 in /usr/local/lib/python3.7/dist-packages (from protobuf->transformers[sentencepiece]) (1.15.0)\n",
            "Requirement already satisfied: chardet<4,>=3.0.2 in /usr/local/lib/python3.7/dist-packages (from requests->transformers[sentencepiece]) (3.0.4)\n",
            "Requirement already satisfied: urllib3!=1.25.0,!=1.25.1,<1.26,>=1.21.1 in /usr/local/lib/python3.7/dist-packages (from requests->transformers[sentencepiece]) (1.24.3)\n",
            "Requirement already satisfied: certifi>=2017.4.17 in /usr/local/lib/python3.7/dist-packages (from requests->transformers[sentencepiece]) (2021.5.30)\n",
            "Requirement already satisfied: idna<3,>=2.5 in /usr/local/lib/python3.7/dist-packages (from requests->transformers[sentencepiece]) (2.10)\n",
            "Requirement already satisfied: click in /usr/local/lib/python3.7/dist-packages (from sacremoses->transformers[sentencepiece]) (7.1.2)\n",
            "Requirement already satisfied: joblib in /usr/local/lib/python3.7/dist-packages (from sacremoses->transformers[sentencepiece]) (1.0.1)\n"
          ],
          "name": "stdout"
        }
      ]
    },
    {
      "cell_type": "code",
      "metadata": {
        "id": "cyrzItqmcqzl"
      },
      "source": [
        "for sent in tokenizer.tokenize_sents(sents): \n",
        "  print(sent) "
      ],
      "execution_count": null,
      "outputs": []
    },
    {
      "cell_type": "code",
      "metadata": {
        "id": "-Un1NUIrcyCP"
      },
      "source": [
        "import nltk\n",
        "from nltk.tokenize import TweetTokenizer, sent_tokenize"
      ],
      "execution_count": null,
      "outputs": []
    },
    {
      "cell_type": "code",
      "metadata": {
        "colab": {
          "base_uri": "https://localhost:8080/",
          "height": 103
        },
        "id": "7F_HFZA8eKnv",
        "outputId": "c0182be3-5ccf-4bcb-9808-75041bf90140"
      },
      "source": [
        "text[:8000]"
      ],
      "execution_count": null,
      "outputs": [
        {
          "output_type": "execute_result",
          "data": {
            "application/vnd.google.colaboratory.intrinsic+json": {
              "type": "string"
            },
            "text/plain": [
              "'Why your DNA may be solving cold cases 01:31\\n(CNN)A man who spent two decades in prison for a 1985 double homicide during church bible study has been exonerated, with all charges against him dropped.\\n\\nNewly discovered DNA evidence from a hair sample shows Dennis A. Perry, 59, \"may have been acquitted if that evidence had been available\" during his 2003 trial for the murders of Harold and Thelma Swain in Georgia, according to a news release from Glynn County District Attorney Keith Higgins.\\nDennis Perry, center, standing beside wife Brenda Perry gets emotional while thanking the team from the Georgia Innocence Project after they worked to get his release after 20 years behind bars.\\nDennis Perry, center, standing beside wife Brenda Perry gets emotional while thanking the team from the Georgia Innocence Project after they worked to get his release after 20 years behind bars.\\nPerry, formerly of Camden County, Georgia, was sentenced to two consecutive life sentences following his arrest in 2000. His subsequent conviction was overturned in July, and Higgins\\' office announced Monday that prosecutors will not re-try him.\\n\"It took a long time, but I never gave up,\" Perry said in a news release Monday. \"I knew that eventually someone else would see the truth, and I\\'m so grateful to the Georgia Innocence Project and King & Spalding [law firm] for bringing the truth to light. This indictment has been hanging over my head for over 20 years, and it\\'s such a relief to finally not have to worry about being accused of this awful thing.\"\\n\\'Righting a wrong\\'\\nThe DNA evidence involves a pair of eyeglasses found at the crime scene in 1985, according to the news release. Investigators found that the glasses had two hairs belonging to the killer, stuck in the hinges.\\nIn February 2020, private investigators working for Perry were able to get a hair sample from a Brantley County woman who is the mother of a man implicated, but not charged, in the 1985 Swain murders, according to the district attorney\\'s news release. Her hair sample was then examined by the same lab that did the DNA testing on the hair found in the eyeglasses in 2001 and those profiles matched, prompting the Georgia Bureau of Investigation to reopen the case in light of the new evidence.\\nMitochondrial DNA testing was done using those hair samples prior to Perry\\'s 2003 trial and excluded him as a possible contributor of the hairs; however, he was convicted using circumstantial evidence at trial, the release said.\\nTwo brothers were wrongfully convicted of rape and murder. Nearly 40 years later, they are getting $75 million in compensation\\nTwo brothers were wrongfully convicted of rape and murder. Nearly 40 years later, they are getting $75 million in compensation\\nOn the evening on their murders, the Swains were in bible study at Rising Daughter Baptist Church in Waverly, according to a news release from Georgia Innocence Project.\\nBefore 9 p.m., an attendee left the meeting and found a man inside the church\\'s vestibule as she was leaving who asked to speak with Harold Swain, 66. She went back inside the prayer meeting to get him and left the church, Higgins\\' news release said. Witnesses said they heard a \"scuffle\" followed by four gunshots.\\nThelma, 63, heard the gunshots and ran to the vestibule -- that\\'s when the killer shot her once. By the time the other meeting attendees ran to the back of the church, the killer had left.\\nThe case quickly went cold, Higgins\\' release said, but it was reopened by the Camden County Sheriff\\'s Office in 1998, according to a release from the Georgia Innocence Project.\\nWithin a week, authorities identified Perry as the main suspect based mainly on testimony from an informant who wanted a $25,000 reward and ultimately was paid $12,000 in exchange for testimony -- something that was never disclosed to Perry\\'s attorneys, the release from Georgia Innocence Project said.\\nHiggins said he consulted with the GBI and the victim\\'s family, and both agreed with his decision not to prosecute Perry.\\n\"There are times when seeking justice means righting a wrong,\" Higgins, who took office Jan. 1, said. \"While this case was prosecuted prior to my administration, the new evidence indicates that someone else murdered Harold and Thelma Swain. Mr. Perry is now, and has been since July 2020, a free man. We will continue to examine all the evidence in the case — new and old — as we determine what the next step will be in this investigation.\"\\n'"
            ]
          },
          "metadata": {
            "tags": []
          },
          "execution_count": 74
        }
      ]
    },
    {
      "cell_type": "code",
      "metadata": {
        "colab": {
          "base_uri": "https://localhost:8080/"
        },
        "id": "ClgVYewVd5uH",
        "outputId": "f3c2d93b-613f-4d3c-fc2d-2f373fa688f4"
      },
      "source": [
        "from nltk.tokenize import sent_tokenize, word_tokenize\n",
        "each_sentence=sent_tokenize(text)\n",
        "each_sentence"
      ],
      "execution_count": null,
      "outputs": [
        {
          "output_type": "execute_result",
          "data": {
            "text/plain": [
              "['Why your DNA may be solving cold cases 01:31\\n(CNN)A man who spent two decades in prison for a 1985 double homicide during church bible study has been exonerated, with all charges against him dropped.',\n",
              " 'Newly discovered DNA evidence from a hair sample shows Dennis A. Perry, 59, \"may have been acquitted if that evidence had been available\" during his 2003 trial for the murders of Harold and Thelma Swain in Georgia, according to a news release from Glynn County District Attorney Keith Higgins.',\n",
              " 'Dennis Perry, center, standing beside wife Brenda Perry gets emotional while thanking the team from the Georgia Innocence Project after they worked to get his release after 20 years behind bars.',\n",
              " 'Dennis Perry, center, standing beside wife Brenda Perry gets emotional while thanking the team from the Georgia Innocence Project after they worked to get his release after 20 years behind bars.',\n",
              " 'Perry, formerly of Camden County, Georgia, was sentenced to two consecutive life sentences following his arrest in 2000.',\n",
              " \"His subsequent conviction was overturned in July, and Higgins' office announced Monday that prosecutors will not re-try him.\",\n",
              " '\"It took a long time, but I never gave up,\" Perry said in a news release Monday.',\n",
              " '\"I knew that eventually someone else would see the truth, and I\\'m so grateful to the Georgia Innocence Project and King & Spalding [law firm] for bringing the truth to light.',\n",
              " 'This indictment has been hanging over my head for over 20 years, and it\\'s such a relief to finally not have to worry about being accused of this awful thing.\"',\n",
              " \"'Righting a wrong'\\nThe DNA evidence involves a pair of eyeglasses found at the crime scene in 1985, according to the news release.\",\n",
              " 'Investigators found that the glasses had two hairs belonging to the killer, stuck in the hinges.',\n",
              " \"In February 2020, private investigators working for Perry were able to get a hair sample from a Brantley County woman who is the mother of a man implicated, but not charged, in the 1985 Swain murders, according to the district attorney's news release.\",\n",
              " 'Her hair sample was then examined by the same lab that did the DNA testing on the hair found in the eyeglasses in 2001 and those profiles matched, prompting the Georgia Bureau of Investigation to reopen the case in light of the new evidence.',\n",
              " \"Mitochondrial DNA testing was done using those hair samples prior to Perry's 2003 trial and excluded him as a possible contributor of the hairs; however, he was convicted using circumstantial evidence at trial, the release said.\",\n",
              " 'Two brothers were wrongfully convicted of rape and murder.',\n",
              " 'Nearly 40 years later, they are getting $75 million in compensation\\nTwo brothers were wrongfully convicted of rape and murder.',\n",
              " 'Nearly 40 years later, they are getting $75 million in compensation\\nOn the evening on their murders, the Swains were in bible study at Rising Daughter Baptist Church in Waverly, according to a news release from Georgia Innocence Project.',\n",
              " \"Before 9 p.m., an attendee left the meeting and found a man inside the church's vestibule as she was leaving who asked to speak with Harold Swain, 66.\",\n",
              " \"She went back inside the prayer meeting to get him and left the church, Higgins' news release said.\",\n",
              " 'Witnesses said they heard a \"scuffle\" followed by four gunshots.',\n",
              " \"Thelma, 63, heard the gunshots and ran to the vestibule -- that's when the killer shot her once.\",\n",
              " 'By the time the other meeting attendees ran to the back of the church, the killer had left.',\n",
              " \"The case quickly went cold, Higgins' release said, but it was reopened by the Camden County Sheriff's Office in 1998, according to a release from the Georgia Innocence Project.\",\n",
              " \"Within a week, authorities identified Perry as the main suspect based mainly on testimony from an informant who wanted a $25,000 reward and ultimately was paid $12,000 in exchange for testimony -- something that was never disclosed to Perry's attorneys, the release from Georgia Innocence Project said.\",\n",
              " \"Higgins said he consulted with the GBI and the victim's family, and both agreed with his decision not to prosecute Perry.\",\n",
              " '\"There are times when seeking justice means righting a wrong,\" Higgins, who took office Jan. 1, said.',\n",
              " '\"While this case was prosecuted prior to my administration, the new evidence indicates that someone else murdered Harold and Thelma Swain.',\n",
              " 'Mr. Perry is now, and has been since July 2020, a free man.',\n",
              " 'We will continue to examine all the evidence in the case — new and old — as we determine what the next step will be in this investigation.\"']"
            ]
          },
          "metadata": {
            "tags": []
          },
          "execution_count": 75
        }
      ]
    },
    {
      "cell_type": "markdown",
      "metadata": {
        "id": "X9BmUTY1ej5s"
      },
      "source": [
        "on each sentence run the ner pipeline"
      ]
    },
    {
      "cell_type": "code",
      "metadata": {
        "colab": {
          "base_uri": "https://localhost:8080/"
        },
        "id": "BFn3ezooe3PX",
        "outputId": "6e9f9f17-499d-44fc-a873-785142bebf9c"
      },
      "source": [
        "from transformers import pipeline\n",
        "\n",
        "ner = pipeline(\"ner\", grouped_entities=True)"
      ],
      "execution_count": null,
      "outputs": [
        {
          "output_type": "stream",
          "text": [
            "/usr/local/lib/python3.7/dist-packages/transformers/pipelines/token_classification.py:155: UserWarning: `grouped_entities` is deprecated and will be removed in version v5.0.0, defaulted to `aggregation_strategy=\"AggregationStrategy.SIMPLE\"` instead.\n",
            "  f'`grouped_entities` is deprecated and will be removed in version v5.0.0, defaulted to `aggregation_strategy=\"{aggregation_strategy}\"` instead.'\n"
          ],
          "name": "stderr"
        }
      ]
    },
    {
      "cell_type": "code",
      "metadata": {
        "colab": {
          "base_uri": "https://localhost:8080/"
        },
        "id": "ir-QryKEempy",
        "outputId": "c74ebe4a-31f6-4ce3-d4f0-89b5120cc445"
      },
      "source": [
        "for i in each_sentence:\n",
        "  dicti = (ner(i))\n",
        "  print(dicti)"
      ],
      "execution_count": null,
      "outputs": [
        {
          "output_type": "stream",
          "text": [
            "[{'entity_group': 'ORG', 'score': 0.9724779, 'word': 'CNN', 'start': 46, 'end': 49}]\n",
            "[{'entity_group': 'PER', 'score': 0.9919249, 'word': 'Dennis A. Perry', 'start': 55, 'end': 70}, {'entity_group': 'PER', 'score': 0.99904895, 'word': 'Harold', 'start': 179, 'end': 185}, {'entity_group': 'PER', 'score': 0.9955435, 'word': 'Thelma Swain', 'start': 190, 'end': 202}, {'entity_group': 'LOC', 'score': 0.9994164, 'word': 'Georgia', 'start': 206, 'end': 213}, {'entity_group': 'LOC', 'score': 0.6731756, 'word': 'Glynn', 'start': 248, 'end': 253}, {'entity_group': 'ORG', 'score': 0.4471969, 'word': 'County', 'start': 254, 'end': 260}, {'entity_group': 'PER', 'score': 0.9996073, 'word': 'Keith Higgins', 'start': 279, 'end': 292}]\n",
            "[{'entity_group': 'PER', 'score': 0.9995469, 'word': 'Dennis Perry', 'start': 0, 'end': 12}, {'entity_group': 'PER', 'score': 0.99933624, 'word': 'Brenda Perry', 'start': 43, 'end': 55}, {'entity_group': 'ORG', 'score': 0.98885936, 'word': 'Georgia Innocence Project', 'start': 104, 'end': 129}]\n",
            "[{'entity_group': 'PER', 'score': 0.9995469, 'word': 'Dennis Perry', 'start': 0, 'end': 12}, {'entity_group': 'PER', 'score': 0.99933624, 'word': 'Brenda Perry', 'start': 43, 'end': 55}, {'entity_group': 'ORG', 'score': 0.98885936, 'word': 'Georgia Innocence Project', 'start': 104, 'end': 129}]\n",
            "[{'entity_group': 'PER', 'score': 0.99936205, 'word': 'Perry', 'start': 0, 'end': 5}, {'entity_group': 'LOC', 'score': 0.98164856, 'word': 'Camden County', 'start': 19, 'end': 32}, {'entity_group': 'LOC', 'score': 0.9972414, 'word': 'Georgia', 'start': 34, 'end': 41}]\n",
            "[{'entity_group': 'PER', 'score': 0.9995459, 'word': 'Higgins', 'start': 54, 'end': 61}]\n",
            "[{'entity_group': 'PER', 'score': 0.99877834, 'word': 'Perry', 'start': 44, 'end': 49}]\n",
            "[{'entity_group': 'ORG', 'score': 0.99633825, 'word': 'Georgia Innocence Project', 'start': 85, 'end': 110}, {'entity_group': 'ORG', 'score': 0.99774086, 'word': 'King & Spalding', 'start': 115, 'end': 130}]\n",
            "[]\n",
            "[{'entity_group': 'MISC', 'score': 0.7891929, 'word': 'DNA', 'start': 23, 'end': 26}]\n",
            "[]\n",
            "[{'entity_group': 'PER', 'score': 0.9984982, 'word': 'Perry', 'start': 52, 'end': 57}, {'entity_group': 'LOC', 'score': 0.76179504, 'word': 'Brantley County', 'start': 96, 'end': 111}, {'entity_group': 'MISC', 'score': 0.89832526, 'word': 'S', 'start': 186, 'end': 187}, {'entity_group': 'PER', 'score': 0.4910574, 'word': '##wain', 'start': 187, 'end': 191}]\n",
            "[{'entity_group': 'ORG', 'score': 0.99883723, 'word': 'Georgia Bureau of Investigation', 'start': 161, 'end': 192}]\n",
            "[{'entity_group': 'MISC', 'score': 0.74651194, 'word': 'DNA', 'start': 14, 'end': 17}, {'entity_group': 'PER', 'score': 0.9992687, 'word': 'Perry', 'start': 69, 'end': 74}]\n",
            "[]\n",
            "[]\n",
            "[{'entity_group': 'PER', 'score': 0.9722236, 'word': 'Swain', 'start': 105, 'end': 110}, {'entity_group': 'LOC', 'score': 0.9459071, 'word': 'Rising Daughter Baptist Church', 'start': 135, 'end': 165}, {'entity_group': 'LOC', 'score': 0.9707192, 'word': 'Waverly', 'start': 169, 'end': 176}, {'entity_group': 'ORG', 'score': 0.978852, 'word': 'Georgia Innocence Project', 'start': 211, 'end': 236}]\n",
            "[{'entity_group': 'PER', 'score': 0.9994046, 'word': 'Harold Swain', 'start': 133, 'end': 145}]\n",
            "[{'entity_group': 'PER', 'score': 0.99928176, 'word': 'Higgins', 'start': 72, 'end': 79}]\n",
            "[]\n",
            "[{'entity_group': 'PER', 'score': 0.9947251, 'word': 'Thelma', 'start': 0, 'end': 6}]\n",
            "[]\n",
            "[{'entity_group': 'PER', 'score': 0.999309, 'word': 'Higgins', 'start': 28, 'end': 35}, {'entity_group': 'ORG', 'score': 0.998982, 'word': \"Camden County Sheriff's Office\", 'start': 78, 'end': 108}, {'entity_group': 'ORG', 'score': 0.9873732, 'word': 'Georgia Innocence Project', 'start': 150, 'end': 175}]\n",
            "[{'entity_group': 'PER', 'score': 0.9994259, 'word': 'Perry', 'start': 38, 'end': 43}, {'entity_group': 'PER', 'score': 0.9994661, 'word': 'Perry', 'start': 235, 'end': 240}, {'entity_group': 'ORG', 'score': 0.9783505, 'word': 'Georgia Innocence Project', 'start': 271, 'end': 296}]\n",
            "[{'entity_group': 'PER', 'score': 0.9994252, 'word': 'Higgins', 'start': 0, 'end': 7}, {'entity_group': 'ORG', 'score': 0.9990356, 'word': 'GBI', 'start': 35, 'end': 38}, {'entity_group': 'PER', 'score': 0.9991487, 'word': 'Perry', 'start': 115, 'end': 120}]\n",
            "[{'entity_group': 'PER', 'score': 0.99958813, 'word': 'Higgins', 'start': 63, 'end': 70}]\n",
            "[{'entity_group': 'PER', 'score': 0.992805, 'word': 'Harold', 'start': 114, 'end': 120}, {'entity_group': 'PER', 'score': 0.9662846, 'word': 'Thelma Swain', 'start': 125, 'end': 137}]\n",
            "[{'entity_group': 'PER', 'score': 0.9994503, 'word': 'Perry', 'start': 4, 'end': 9}]\n",
            "[]\n"
          ],
          "name": "stdout"
        }
      ]
    },
    {
      "cell_type": "markdown",
      "metadata": {
        "id": "YyyTUqNTe8R2"
      },
      "source": [
        "In each sentence where LOC is found, run pos"
      ]
    },
    {
      "cell_type": "code",
      "metadata": {
        "colab": {
          "base_uri": "https://localhost:8080/"
        },
        "id": "X5bWME6VgIXw",
        "outputId": "622e432e-ac99-4d62-eed3-07ecadc755b5"
      },
      "source": [
        "for i in each_sentence:\n",
        "  dicti = (ner(i))\n",
        "  for value in dicti:\n",
        "    if (value['entity_group']) == ('LOC'):\n",
        "        print(value)\n",
        "print(len(value))"
      ],
      "execution_count": null,
      "outputs": [
        {
          "output_type": "stream",
          "text": [
            "{'entity_group': 'LOC', 'score': 0.9994164, 'word': 'Georgia', 'start': 206, 'end': 213}\n",
            "{'entity_group': 'LOC', 'score': 0.6731756, 'word': 'Glynn', 'start': 248, 'end': 253}\n",
            "{'entity_group': 'LOC', 'score': 0.98164856, 'word': 'Camden County', 'start': 19, 'end': 32}\n",
            "{'entity_group': 'LOC', 'score': 0.9972414, 'word': 'Georgia', 'start': 34, 'end': 41}\n",
            "{'entity_group': 'LOC', 'score': 0.76179504, 'word': 'Brantley County', 'start': 96, 'end': 111}\n",
            "{'entity_group': 'LOC', 'score': 0.9459071, 'word': 'Rising Daughter Baptist Church', 'start': 135, 'end': 165}\n",
            "{'entity_group': 'LOC', 'score': 0.9707192, 'word': 'Waverly', 'start': 169, 'end': 176}\n",
            "5\n"
          ],
          "name": "stdout"
        }
      ]
    },
    {
      "cell_type": "code",
      "metadata": {
        "colab": {
          "base_uri": "https://localhost:8080/"
        },
        "id": "4IKmRV_hby93",
        "outputId": "1ff61b53-449e-4b4a-bf81-d0248ea9f3ac"
      },
      "source": [
        "for i in each_sentence:\n",
        "  dicti = (ner(i))\n",
        "  for value in dicti:\n",
        "    if (value['entity_group']) == ('LOC'):\n",
        "        print(i)\n",
        " "
      ],
      "execution_count": null,
      "outputs": [
        {
          "output_type": "stream",
          "text": [
            "Newly discovered DNA evidence from a hair sample shows Dennis A. Perry, 59, \"may have been acquitted if that evidence had been available\" during his 2003 trial for the murders of Harold and Thelma Swain in Georgia, according to a news release from Glynn County District Attorney Keith Higgins.\n",
            "Newly discovered DNA evidence from a hair sample shows Dennis A. Perry, 59, \"may have been acquitted if that evidence had been available\" during his 2003 trial for the murders of Harold and Thelma Swain in Georgia, according to a news release from Glynn County District Attorney Keith Higgins.\n",
            "Perry, formerly of Camden County, Georgia, was sentenced to two consecutive life sentences following his arrest in 2000.\n",
            "Perry, formerly of Camden County, Georgia, was sentenced to two consecutive life sentences following his arrest in 2000.\n",
            "In February 2020, private investigators working for Perry were able to get a hair sample from a Brantley County woman who is the mother of a man implicated, but not charged, in the 1985 Swain murders, according to the district attorney's news release.\n",
            "Nearly 40 years later, they are getting $75 million in compensation\n",
            "On the evening on their murders, the Swains were in bible study at Rising Daughter Baptist Church in Waverly, according to a news release from Georgia Innocence Project.\n",
            "Nearly 40 years later, they are getting $75 million in compensation\n",
            "On the evening on their murders, the Swains were in bible study at Rising Daughter Baptist Church in Waverly, according to a news release from Georgia Innocence Project.\n"
          ],
          "name": "stdout"
        }
      ]
    },
    {
      "cell_type": "code",
      "metadata": {
        "colab": {
          "base_uri": "https://localhost:8080/"
        },
        "id": "01wiOdcwhn3D",
        "outputId": "885f3df6-dcdd-4f63-deab-f76afca26b4b"
      },
      "source": [
        "for i in each_sentence:\n",
        "  dicti = (ner(i))\n",
        "  for value in dicti:\n",
        "    if (value['entity_group']) == ('LOC'):\n",
        "      pos_final = nlp(i)\n",
        "      #print(pos_final)\n",
        "      for value in pos_final:\n",
        "       # print(value)\n",
        "         if  value['word'].startswith('com'):\n",
        "            print(i)\n"
      ],
      "execution_count": null,
      "outputs": [
        {
          "output_type": "stream",
          "text": [
            "Nearly 40 years later, they are getting $75 million in compensation\n",
            "On the evening on their murders, the Swains were in bible study at Rising Daughter Baptist Church in Waverly, according to a news release from Georgia Innocence Project.\n",
            "Nearly 40 years later, they are getting $75 million in compensation\n",
            "On the evening on their murders, the Swains were in bible study at Rising Daughter Baptist Church in Waverly, according to a news release from Georgia Innocence Project.\n"
          ],
          "name": "stdout"
        }
      ]
    },
    {
      "cell_type": "markdown",
      "metadata": {
        "id": "vponVaZCTKUx"
      },
      "source": [
        "***It looks like the compensate amount is $75 million***"
      ]
    },
    {
      "cell_type": "markdown",
      "metadata": {
        "id": "9Laq-1ULUvL1"
      },
      "source": [
        "Now finding the location of crime"
      ]
    },
    {
      "cell_type": "code",
      "metadata": {
        "colab": {
          "base_uri": "https://localhost:8080/"
        },
        "id": "4HWWVrlRhoXK",
        "outputId": "cebc5cb2-28b5-42c8-9eee-0abdd8f8baa2"
      },
      "source": [
        "from transformers import TokenClassificationPipeline, pipeline\n",
        "\n",
        "\n",
        "MODEL_PATH = \"vblagoje/bert-english-uncased-finetuned-pos\"\n",
        "\n",
        "nlp = pipeline(\n",
        "    \"ner\",\n",
        "    model=MODEL_PATH,\n",
        "    tokenizer=MODEL_PATH,\n",
        ")\n",
        "# or instantiate a TokenClassificationPipeline directly.\n",
        "\n",
        "pos_final = nlp(i)\n",
        "pos_final\n",
        "\n",
        "#for value in pos_final:\n",
        "   # if (value['entity']) == ('VERB'):\n",
        "     #   print(value)\n",
        " "
      ],
      "execution_count": null,
      "outputs": [
        {
          "output_type": "execute_result",
          "data": {
            "text/plain": [
              "[{'end': 2,\n",
              "  'entity': 'PRON',\n",
              "  'index': 1,\n",
              "  'score': 0.9995182,\n",
              "  'start': 0,\n",
              "  'word': 'we'},\n",
              " {'end': 7,\n",
              "  'entity': 'AUX',\n",
              "  'index': 2,\n",
              "  'score': 0.99903095,\n",
              "  'start': 3,\n",
              "  'word': 'will'},\n",
              " {'end': 16,\n",
              "  'entity': 'VERB',\n",
              "  'index': 3,\n",
              "  'score': 0.999416,\n",
              "  'start': 8,\n",
              "  'word': 'continue'},\n",
              " {'end': 19,\n",
              "  'entity': 'PART',\n",
              "  'index': 4,\n",
              "  'score': 0.99920183,\n",
              "  'start': 17,\n",
              "  'word': 'to'},\n",
              " {'end': 27,\n",
              "  'entity': 'VERB',\n",
              "  'index': 5,\n",
              "  'score': 0.9995469,\n",
              "  'start': 20,\n",
              "  'word': 'examine'},\n",
              " {'end': 31,\n",
              "  'entity': 'DET',\n",
              "  'index': 6,\n",
              "  'score': 0.9990282,\n",
              "  'start': 28,\n",
              "  'word': 'all'},\n",
              " {'end': 35,\n",
              "  'entity': 'DET',\n",
              "  'index': 7,\n",
              "  'score': 0.9994971,\n",
              "  'start': 32,\n",
              "  'word': 'the'},\n",
              " {'end': 44,\n",
              "  'entity': 'NOUN',\n",
              "  'index': 8,\n",
              "  'score': 0.9992472,\n",
              "  'start': 36,\n",
              "  'word': 'evidence'},\n",
              " {'end': 47,\n",
              "  'entity': 'ADP',\n",
              "  'index': 9,\n",
              "  'score': 0.9994956,\n",
              "  'start': 45,\n",
              "  'word': 'in'},\n",
              " {'end': 51,\n",
              "  'entity': 'DET',\n",
              "  'index': 10,\n",
              "  'score': 0.9995347,\n",
              "  'start': 48,\n",
              "  'word': 'the'},\n",
              " {'end': 56,\n",
              "  'entity': 'NOUN',\n",
              "  'index': 11,\n",
              "  'score': 0.9992324,\n",
              "  'start': 52,\n",
              "  'word': 'case'},\n",
              " {'end': 58,\n",
              "  'entity': 'PUNCT',\n",
              "  'index': 12,\n",
              "  'score': 0.9923899,\n",
              "  'start': 57,\n",
              "  'word': '—'},\n",
              " {'end': 62,\n",
              "  'entity': 'ADJ',\n",
              "  'index': 13,\n",
              "  'score': 0.99864346,\n",
              "  'start': 59,\n",
              "  'word': 'new'},\n",
              " {'end': 66,\n",
              "  'entity': 'CCONJ',\n",
              "  'index': 14,\n",
              "  'score': 0.99824524,\n",
              "  'start': 63,\n",
              "  'word': 'and'},\n",
              " {'end': 70,\n",
              "  'entity': 'ADJ',\n",
              "  'index': 15,\n",
              "  'score': 0.99853694,\n",
              "  'start': 67,\n",
              "  'word': 'old'},\n",
              " {'end': 72,\n",
              "  'entity': 'PUNCT',\n",
              "  'index': 16,\n",
              "  'score': 0.96011555,\n",
              "  'start': 71,\n",
              "  'word': '—'},\n",
              " {'end': 75,\n",
              "  'entity': 'SCONJ',\n",
              "  'index': 17,\n",
              "  'score': 0.9985889,\n",
              "  'start': 73,\n",
              "  'word': 'as'},\n",
              " {'end': 78,\n",
              "  'entity': 'PRON',\n",
              "  'index': 18,\n",
              "  'score': 0.99953437,\n",
              "  'start': 76,\n",
              "  'word': 'we'},\n",
              " {'end': 88,\n",
              "  'entity': 'VERB',\n",
              "  'index': 19,\n",
              "  'score': 0.9994767,\n",
              "  'start': 79,\n",
              "  'word': 'determine'},\n",
              " {'end': 93,\n",
              "  'entity': 'PRON',\n",
              "  'index': 20,\n",
              "  'score': 0.7799086,\n",
              "  'start': 89,\n",
              "  'word': 'what'},\n",
              " {'end': 97,\n",
              "  'entity': 'DET',\n",
              "  'index': 21,\n",
              "  'score': 0.9995152,\n",
              "  'start': 94,\n",
              "  'word': 'the'},\n",
              " {'end': 102,\n",
              "  'entity': 'ADJ',\n",
              "  'index': 22,\n",
              "  'score': 0.9983432,\n",
              "  'start': 98,\n",
              "  'word': 'next'},\n",
              " {'end': 107,\n",
              "  'entity': 'NOUN',\n",
              "  'index': 23,\n",
              "  'score': 0.99894506,\n",
              "  'start': 103,\n",
              "  'word': 'step'},\n",
              " {'end': 112,\n",
              "  'entity': 'AUX',\n",
              "  'index': 24,\n",
              "  'score': 0.99903256,\n",
              "  'start': 108,\n",
              "  'word': 'will'},\n",
              " {'end': 115,\n",
              "  'entity': 'AUX',\n",
              "  'index': 25,\n",
              "  'score': 0.9824001,\n",
              "  'start': 113,\n",
              "  'word': 'be'},\n",
              " {'end': 118,\n",
              "  'entity': 'ADP',\n",
              "  'index': 26,\n",
              "  'score': 0.9994966,\n",
              "  'start': 116,\n",
              "  'word': 'in'},\n",
              " {'end': 123,\n",
              "  'entity': 'DET',\n",
              "  'index': 27,\n",
              "  'score': 0.999489,\n",
              "  'start': 119,\n",
              "  'word': 'this'},\n",
              " {'end': 137,\n",
              "  'entity': 'NOUN',\n",
              "  'index': 28,\n",
              "  'score': 0.99915105,\n",
              "  'start': 124,\n",
              "  'word': 'investigation'},\n",
              " {'end': 138,\n",
              "  'entity': 'PUNCT',\n",
              "  'index': 29,\n",
              "  'score': 0.9996123,\n",
              "  'start': 137,\n",
              "  'word': '.'},\n",
              " {'end': 139,\n",
              "  'entity': 'PUNCT',\n",
              "  'index': 30,\n",
              "  'score': 0.99959034,\n",
              "  'start': 138,\n",
              "  'word': '\"'}]"
            ]
          },
          "metadata": {
            "tags": []
          },
          "execution_count": 108
        }
      ]
    },
    {
      "cell_type": "code",
      "metadata": {
        "colab": {
          "base_uri": "https://localhost:8080/"
        },
        "id": "GzON_E8nu17p",
        "outputId": "0b194f94-42c2-42f3-fce0-24cb4d790ea4"
      },
      "source": [
        "for i in dicti:\n",
        "  \n",
        "  if i['entity_group'] == 'LOC':\n",
        "    print(i)"
      ],
      "execution_count": null,
      "outputs": [
        {
          "output_type": "stream",
          "text": [
            "{'entity_group': 'LOC', 'score': 0.99940544, 'word': 'Georgia', 'start': 407, 'end': 414}\n",
            "{'entity_group': 'LOC', 'score': 0.87232673, 'word': 'Camden County', 'start': 904, 'end': 917}\n",
            "{'entity_group': 'LOC', 'score': 0.99427986, 'word': 'Georgia', 'start': 919, 'end': 926}\n",
            "{'entity_group': 'LOC', 'score': 0.99214834, 'word': 'Georgia', 'start': 2187, 'end': 2194}\n"
          ],
          "name": "stdout"
        }
      ]
    },
    {
      "cell_type": "markdown",
      "metadata": {
        "id": "v44PNJ_UU3Ir"
      },
      "source": [
        "# ***It looks like the location of crime is Georgia since it has appeared 3 out of 4 times in the search.***"
      ]
    }
  ]
}